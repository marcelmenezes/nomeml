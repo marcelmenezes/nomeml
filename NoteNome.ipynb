{
 "cells": [
  {
   "cell_type": "code",
   "execution_count": 5,
   "metadata": {},
   "outputs": [
    {
     "name": "stdout",
     "output_type": "stream",
     "text": [
      "RandomForest results:\n",
      "\tSex: M\n",
      "\t{'probability to be Female': 0.422, 'probability to be Male': 0.578}\n",
      "\n",
      "SVC results:\n",
      "\tSex: M\n",
      "\t{'probability to be Female': 0.166, 'probability to be Male': 0.834}\n"
     ]
    }
   ],
   "source": [
    "import warnings\n",
    "warnings.filterwarnings(\"ignore\", category=DeprecationWarning) \n",
    "warnings.filterwarnings(\"ignore\", category=UserWarning) \n",
    "\n",
    "from modeloRandomForest import getSexoRandomForest, getSexoSVC\n",
    "\n",
    "nome = \"Maciel\" # name in Portuguese\n",
    "c = getSexoRandomForest(nome)\n",
    "print('RandomForest results:\\n\\tSex: {0}\\n\\t{1}'.format(c[0], c[1]))\n",
    "\n",
    "c = getSexoSVC(nome)\n",
    "print('\\nSVC results:\\n\\tSex: {0}\\n\\t{1}'.format(c[0], c[1]))"
   ]
  }
 ],
 "metadata": {
  "kernelspec": {
   "display_name": "Python 3",
   "language": "python",
   "name": "python3"
  },
  "language_info": {
   "codemirror_mode": {
    "name": "ipython",
    "version": 3
   },
   "file_extension": ".py",
   "mimetype": "text/x-python",
   "name": "python",
   "nbconvert_exporter": "python",
   "pygments_lexer": "ipython3",
   "version": "3.7.3"
  }
 },
 "nbformat": 4,
 "nbformat_minor": 2
}
