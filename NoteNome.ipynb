{
 "cells": [
  {
   "cell_type": "code",
   "execution_count": 3,
   "metadata": {},
   "outputs": [
    {
     "name": "stdout",
     "output_type": "stream",
     "text": [
      "RandomForest results:\n",
      "\tSex: F\n",
      "\t{'probability to be Female': 0.926, 'probability to be Male': 0.074}\n",
      "\n",
      "SVC results:\n",
      "\tSex: F\n",
      "\t{'probability to be Female': 0.852, 'probability to be Male': 0.148}\n"
     ]
    }
   ],
   "source": [
    "import warnings\n",
    "warnings.filterwarnings(\"ignore\", category=DeprecationWarning) \n",
    "warnings.filterwarnings(\"ignore\", category=UserWarning) \n",
    "\n",
    "from modeloRandomForest import getSexoRandomForest, getSexoSVC\n",
    "\n",
    "nome = \"Maria\" # name in Portuguese\n",
    "c = getSexoRandomForest(nome)\n",
    "print('RandomForest results:\\n\\tSex: {0}\\n\\t{1}'.format(c[0], c[1]))\n",
    "\n",
    "c = getSexoSVC(nome)\n",
    "print('\\nSVC results:\\n\\tSex: {0}\\n\\t{1}'.format(c[0], c[1]))"
   ]
  }
 ],
 "metadata": {
  "kernelspec": {
   "display_name": "Python 3",
   "language": "python",
   "name": "python3"
  },
  "language_info": {
   "codemirror_mode": {
    "name": "ipython",
    "version": 3
   },
   "file_extension": ".py",
   "mimetype": "text/x-python",
   "name": "python",
   "nbconvert_exporter": "python",
   "pygments_lexer": "ipython3",
   "version": "3.7.3"
  }
 },
 "nbformat": 4,
 "nbformat_minor": 2
}
